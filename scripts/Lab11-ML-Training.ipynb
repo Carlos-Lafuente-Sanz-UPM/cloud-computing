{
  "cells": [
    {
      "cell_type": "code",
      "source": [
        "from azure.ai.ml import MLClient\n",
        "from azure.identity import DefaultAzureCredential\n",
        "import pandas as pd\n",
        "import numpy as np\n",
        "\n",
        "ml_client = MLClient(\n",
        "    DefaultAzureCredential(),\n",
        "    subscription_id=\"1c10247d-21e6-46ad-aad4-0415d628ab58\",\n",
        "    resource_group_name=\"synapse-ogvd-rg\",\n",
        "    workspace_name=\"ml-workspace-ogvd\"\n",
        ")\n",
        "\n",
        "print(\"Cliente Azure ML configurado\")\n",
        "print(f\"Workspace: {ml_client.workspace_name}\")\n",
        "print(f\"Resource Group: {ml_client.resource_group_name}\")"
      ],
      "outputs": [
        {
          "output_type": "stream",
          "name": "stdout",
          "text": "Cliente Azure ML configurado\nWorkspace: ml-workspace-ogvd\nResource Group: synapse-ogvd-rg\n"
        }
      ],
      "execution_count": 1,
      "metadata": {
        "gather": {
          "logged": 1748725961177
        }
      }
    },
    {
      "cell_type": "code",
      "source": [
        "import urllib.request\n",
        "\n",
        "url = \"https://raw.githubusercontent.com/ETSISI-OGVD/azure-machinelearning-labs/main/data/default_of_credit_card_clients.csv\"\n",
        "urllib.request.urlretrieve(url, \"credit_data.csv\")\n",
        "\n",
        "df = pd.read_csv(\"credit_data.csv\")\n",
        "\n",
        "print(\"Dataset de clientes de tarjetas de crédito cargado:\")\n",
        "print(f\"Shape: {df.shape}\")\n",
        "print(f\"Columnas: {df.columns.tolist()}\")\n",
        "\n",
        "print(\"\\nPrimeras 5 filas:\")\n",
        "df.head()"
      ],
      "outputs": [
        {
          "output_type": "stream",
          "name": "stdout",
          "text": "Dataset de clientes de tarjetas de crédito cargado:\nShape: (30001, 25)\nColumnas: ['Unnamed: 0', 'X1', 'X2', 'X3', 'X4', 'X5', 'X6', 'X7', 'X8', 'X9', 'X10', 'X11', 'X12', 'X13', 'X14', 'X15', 'X16', 'X17', 'X18', 'X19', 'X20', 'X21', 'X22', 'X23', 'Y']\n\nPrimeras 5 filas:\n"
        },
        {
          "output_type": "execute_result",
          "execution_count": 2,
          "data": {
            "text/plain": "  Unnamed: 0         X1   X2         X3        X4   X5     X6     X7     X8  \\\n0         ID  LIMIT_BAL  SEX  EDUCATION  MARRIAGE  AGE  PAY_0  PAY_2  PAY_3   \n1          1      20000    2          2         1   24      2      2     -1   \n2          2     120000    2          2         2   26     -1      2      0   \n3          3      90000    2          2         2   34      0      0      0   \n4          4      50000    2          2         1   37      0      0      0   \n\n      X9  ...        X15        X16        X17       X18       X19       X20  \\\n0  PAY_4  ...  BILL_AMT4  BILL_AMT5  BILL_AMT6  PAY_AMT1  PAY_AMT2  PAY_AMT3   \n1     -1  ...          0          0          0         0       689         0   \n2      0  ...       3272       3455       3261         0      1000      1000   \n3      0  ...      14331      14948      15549      1518      1500      1000   \n4      0  ...      28314      28959      29547      2000      2019      1200   \n\n        X21       X22       X23                           Y  \n0  PAY_AMT4  PAY_AMT5  PAY_AMT6  default payment next month  \n1         0         0         0                           1  \n2      1000         0      2000                           1  \n3      1000      1000      5000                           0  \n4      1100      1069      1000                           0  \n\n[5 rows x 25 columns]",
            "text/html": "<div>\n<style scoped>\n    .dataframe tbody tr th:only-of-type {\n        vertical-align: middle;\n    }\n\n    .dataframe tbody tr th {\n        vertical-align: top;\n    }\n\n    .dataframe thead th {\n        text-align: right;\n    }\n</style>\n<table border=\"1\" class=\"dataframe\">\n  <thead>\n    <tr style=\"text-align: right;\">\n      <th></th>\n      <th>Unnamed: 0</th>\n      <th>X1</th>\n      <th>X2</th>\n      <th>X3</th>\n      <th>X4</th>\n      <th>X5</th>\n      <th>X6</th>\n      <th>X7</th>\n      <th>X8</th>\n      <th>X9</th>\n      <th>...</th>\n      <th>X15</th>\n      <th>X16</th>\n      <th>X17</th>\n      <th>X18</th>\n      <th>X19</th>\n      <th>X20</th>\n      <th>X21</th>\n      <th>X22</th>\n      <th>X23</th>\n      <th>Y</th>\n    </tr>\n  </thead>\n  <tbody>\n    <tr>\n      <th>0</th>\n      <td>ID</td>\n      <td>LIMIT_BAL</td>\n      <td>SEX</td>\n      <td>EDUCATION</td>\n      <td>MARRIAGE</td>\n      <td>AGE</td>\n      <td>PAY_0</td>\n      <td>PAY_2</td>\n      <td>PAY_3</td>\n      <td>PAY_4</td>\n      <td>...</td>\n      <td>BILL_AMT4</td>\n      <td>BILL_AMT5</td>\n      <td>BILL_AMT6</td>\n      <td>PAY_AMT1</td>\n      <td>PAY_AMT2</td>\n      <td>PAY_AMT3</td>\n      <td>PAY_AMT4</td>\n      <td>PAY_AMT5</td>\n      <td>PAY_AMT6</td>\n      <td>default payment next month</td>\n    </tr>\n    <tr>\n      <th>1</th>\n      <td>1</td>\n      <td>20000</td>\n      <td>2</td>\n      <td>2</td>\n      <td>1</td>\n      <td>24</td>\n      <td>2</td>\n      <td>2</td>\n      <td>-1</td>\n      <td>-1</td>\n      <td>...</td>\n      <td>0</td>\n      <td>0</td>\n      <td>0</td>\n      <td>0</td>\n      <td>689</td>\n      <td>0</td>\n      <td>0</td>\n      <td>0</td>\n      <td>0</td>\n      <td>1</td>\n    </tr>\n    <tr>\n      <th>2</th>\n      <td>2</td>\n      <td>120000</td>\n      <td>2</td>\n      <td>2</td>\n      <td>2</td>\n      <td>26</td>\n      <td>-1</td>\n      <td>2</td>\n      <td>0</td>\n      <td>0</td>\n      <td>...</td>\n      <td>3272</td>\n      <td>3455</td>\n      <td>3261</td>\n      <td>0</td>\n      <td>1000</td>\n      <td>1000</td>\n      <td>1000</td>\n      <td>0</td>\n      <td>2000</td>\n      <td>1</td>\n    </tr>\n    <tr>\n      <th>3</th>\n      <td>3</td>\n      <td>90000</td>\n      <td>2</td>\n      <td>2</td>\n      <td>2</td>\n      <td>34</td>\n      <td>0</td>\n      <td>0</td>\n      <td>0</td>\n      <td>0</td>\n      <td>...</td>\n      <td>14331</td>\n      <td>14948</td>\n      <td>15549</td>\n      <td>1518</td>\n      <td>1500</td>\n      <td>1000</td>\n      <td>1000</td>\n      <td>1000</td>\n      <td>5000</td>\n      <td>0</td>\n    </tr>\n    <tr>\n      <th>4</th>\n      <td>4</td>\n      <td>50000</td>\n      <td>2</td>\n      <td>2</td>\n      <td>1</td>\n      <td>37</td>\n      <td>0</td>\n      <td>0</td>\n      <td>0</td>\n      <td>0</td>\n      <td>...</td>\n      <td>28314</td>\n      <td>28959</td>\n      <td>29547</td>\n      <td>2000</td>\n      <td>2019</td>\n      <td>1200</td>\n      <td>1100</td>\n      <td>1069</td>\n      <td>1000</td>\n      <td>0</td>\n    </tr>\n  </tbody>\n</table>\n<p>5 rows × 25 columns</p>\n</div>"
          },
          "metadata": {}
        }
      ],
      "execution_count": 2,
      "metadata": {
        "gather": {
          "logged": 1748725980796
        }
      }
    },
    {
      "cell_type": "code",
      "source": [
        "# Análisis exploratorio (CORREGIDO)\n",
        "print(\"INFORMACIÓN DEL DATASET:\")\n",
        "print(df.info())\n",
        "\n",
        "print(\"\\nCOLUMNAS DISPONIBLES:\")\n",
        "print(df.columns.tolist())\n",
        "\n",
        "# Identificar la columna objetivo correcta\n",
        "target_column = 'Y'  # ← CORREGIDO\n",
        "print(f\"\\nCOLUMNA OBJETIVO: {target_column}\")\n",
        "\n",
        "print(f\"\\nDISTRIBUCIÓN DE LA VARIABLE OBJETIVO:\")\n",
        "print(df[target_column].value_counts())\n",
        "\n",
        "# Distribución porcentual\n",
        "print(f\"\\nDistribución porcentual:\")\n",
        "print(df[target_column].value_counts(normalize=True) * 100)\n",
        "\n",
        "# Verificar valores nulos\n",
        "print(f\"\\nValores nulos: {df.isnull().sum().sum()}\")\n",
        "\n",
        "# Mostrar primeras filas para entender mejor los datos\n",
        "print(f\"\\nMUESTRA DE DATOS:\")\n",
        "print(df.head())"
      ],
      "outputs": [
        {
          "output_type": "stream",
          "name": "stdout",
          "text": "INFORMACIÓN DEL DATASET:\n<class 'pandas.core.frame.DataFrame'>\nRangeIndex: 30001 entries, 0 to 30000\nData columns (total 25 columns):\n #   Column      Non-Null Count  Dtype \n---  ------      --------------  ----- \n 0   Unnamed: 0  30001 non-null  object\n 1   X1          30001 non-null  object\n 2   X2          30001 non-null  object\n 3   X3          30001 non-null  object\n 4   X4          30001 non-null  object\n 5   X5          30001 non-null  object\n 6   X6          30001 non-null  object\n 7   X7          30001 non-null  object\n 8   X8          30001 non-null  object\n 9   X9          30001 non-null  object\n 10  X10         30001 non-null  object\n 11  X11         30001 non-null  object\n 12  X12         30001 non-null  object\n 13  X13         30001 non-null  object\n 14  X14         30001 non-null  object\n 15  X15         30001 non-null  object\n 16  X16         30001 non-null  object\n 17  X17         30001 non-null  object\n 18  X18         30001 non-null  object\n 19  X19         30001 non-null  object\n 20  X20         30001 non-null  object\n 21  X21         30001 non-null  object\n 22  X22         30001 non-null  object\n 23  X23         30001 non-null  object\n 24  Y           30001 non-null  object\ndtypes: object(25)\nmemory usage: 5.7+ MB\nNone\n\nCOLUMNAS DISPONIBLES:\n['Unnamed: 0', 'X1', 'X2', 'X3', 'X4', 'X5', 'X6', 'X7', 'X8', 'X9', 'X10', 'X11', 'X12', 'X13', 'X14', 'X15', 'X16', 'X17', 'X18', 'X19', 'X20', 'X21', 'X22', 'X23', 'Y']\n\nCOLUMNA OBJETIVO: Y\n\nDISTRIBUCIÓN DE LA VARIABLE OBJETIVO:\n0                             23364\n1                              6636\ndefault payment next month        1\nName: Y, dtype: int64\n\nDistribución porcentual:\n0                             77.877404\n1                             22.119263\ndefault payment next month     0.003333\nName: Y, dtype: float64\n\nValores nulos: 0\n\nMUESTRA DE DATOS:\n  Unnamed: 0         X1   X2         X3        X4   X5     X6     X7     X8  \\\n0         ID  LIMIT_BAL  SEX  EDUCATION  MARRIAGE  AGE  PAY_0  PAY_2  PAY_3   \n1          1      20000    2          2         1   24      2      2     -1   \n2          2     120000    2          2         2   26     -1      2      0   \n3          3      90000    2          2         2   34      0      0      0   \n4          4      50000    2          2         1   37      0      0      0   \n\n      X9  ...        X15        X16        X17       X18       X19       X20  \\\n0  PAY_4  ...  BILL_AMT4  BILL_AMT5  BILL_AMT6  PAY_AMT1  PAY_AMT2  PAY_AMT3   \n1     -1  ...          0          0          0         0       689         0   \n2      0  ...       3272       3455       3261         0      1000      1000   \n3      0  ...      14331      14948      15549      1518      1500      1000   \n4      0  ...      28314      28959      29547      2000      2019      1200   \n\n        X21       X22       X23                           Y  \n0  PAY_AMT4  PAY_AMT5  PAY_AMT6  default payment next month  \n1         0         0         0                           1  \n2      1000         0      2000                           1  \n3      1000      1000      5000                           0  \n4      1100      1069      1000                           0  \n\n[5 rows x 25 columns]\n"
        }
      ],
      "execution_count": 4,
      "metadata": {
        "gather": {
          "logged": 1748726072700
        }
      }
    },
    {
      "cell_type": "code",
      "source": [
        "from sklearn.model_selection import train_test_split\n",
        "from sklearn.ensemble import RandomForestClassifier\n",
        "from sklearn.metrics import accuracy_score, classification_report, confusion_matrix\n",
        "import matplotlib.pyplot as plt\n",
        "\n",
        "print(\"LIMPIANDO Y PREPARANDO DATOS...\")\n",
        "\n",
        "if 'Unnamed: 0' in df.columns:\n",
        "    df = df.drop('Unnamed: 0', axis=1)\n",
        "    print(\"Columna índice eliminada\")\n",
        "\n",
        "feature_columns = [col for col in df.columns if col != 'Y']\n",
        "\n",
        "for col in feature_columns:\n",
        "    df[col] = pd.to_numeric(df[col], errors='coerce')\n",
        "\n",
        "df['Y'] = pd.to_numeric(df['Y'], errors='coerce')\n",
        "\n",
        "print(f\"DATOS DESPUÉS DE LIMPIEZA:\")\n",
        "print(f\"Shape: {df.shape}\")\n",
        "print(f\"Tipos de datos:\")\n",
        "print(df.dtypes.value_counts())\n",
        "\n",
        "null_counts = df.isnull().sum()\n",
        "if null_counts.sum() > 0:\n",
        "    print(f\"\\nValores nulos encontrados:\")\n",
        "    print(null_counts[null_counts > 0])\n",
        "    df = df.dropna()\n",
        "    print(f\"Filas con nulos eliminadas. Nuevo shape: {df.shape}\")\n",
        "\n",
        "X = df.drop(['Y'], axis=1)\n",
        "y = df['Y']\n",
        "\n",
        "print(f\"\\nPREPARACIÓN FINAL:\")\n",
        "print(f\"Features (X): {X.shape}\")\n",
        "print(f\"Target (y): {y.shape}\")\n",
        "\n",
        "print(f\"\\nDISTRIBUCIÓN DEL TARGET:\")\n",
        "print(y.value_counts())\n",
        "\n",
        "X_train, X_test, y_train, y_test = train_test_split(\n",
        "    X, y, \n",
        "    test_size=0.2, \n",
        "    random_state=42, \n",
        "    stratify=y\n",
        ")\n",
        "\n",
        "print(f\"\\nDIVISIÓN DE DATOS:\")\n",
        "print(f\"Training set: {X_train.shape}\")\n",
        "print(f\"Test set: {X_test.shape}\")\n",
        "print(f\"\\nDistribución en training:\")\n",
        "print(y_train.value_counts())\n",
        "print(f\"\\nDistribución en test:\")\n",
        "print(y_test.value_counts())"
      ],
      "outputs": [
        {
          "output_type": "stream",
          "name": "stdout",
          "text": "LIMPIANDO Y PREPARANDO DATOS...\nColumna índice eliminada\nDATOS DESPUÉS DE LIMPIEZA:\nShape: (30001, 24)\nTipos de datos:\nfloat64    24\ndtype: int64\n\nValores nulos encontrados:\nX1     1\nX2     1\nX3     1\nX4     1\nX5     1\nX6     1\nX7     1\nX8     1\nX9     1\nX10    1\nX11    1\nX12    1\nX13    1\nX14    1\nX15    1\nX16    1\nX17    1\nX18    1\nX19    1\nX20    1\nX21    1\nX22    1\nX23    1\nY      1\ndtype: int64\nFilas con nulos eliminadas. Nuevo shape: (30000, 24)\n\nPREPARACIÓN FINAL:\nFeatures (X): (30000, 23)\nTarget (y): (30000,)\n\nDISTRIBUCIÓN DEL TARGET:\n0.0    23364\n1.0     6636\nName: Y, dtype: int64\n\nDIVISIÓN DE DATOS:\nTraining set: (24000, 23)\nTest set: (6000, 23)\n\nDistribución en training:\n0.0    18691\n1.0     5309\nName: Y, dtype: int64\n\nDistribución en test:\n0.0    4673\n1.0    1327\nName: Y, dtype: int64\n"
        }
      ],
      "execution_count": 5,
      "metadata": {
        "gather": {
          "logged": 1748726130135
        }
      }
    },
    {
      "cell_type": "code",
      "source": [
        "print(\"ENTRENANDO MODELO RANDOM FOREST...\")\n",
        "\n",
        "model = RandomForestClassifier(\n",
        "    n_estimators=100,\n",
        "    max_depth=10,\n",
        "    random_state=42,\n",
        "    class_weight='balanced',\n",
        "    n_jobs=-1\n",
        ")\n",
        "\n",
        "model.fit(X_train, y_train)\n",
        "\n",
        "y_pred = model.predict(X_test)\n",
        "y_pred_proba = model.predict_proba(X_test)\n",
        "\n",
        "accuracy = accuracy_score(y_test, y_pred)\n",
        "\n",
        "print(\"MODELO ENTRENADO EXITOSAMENTE\")\n",
        "print(f\"Accuracy: {accuracy:.4f}\")\n",
        "\n",
        "print(f\"\\nCLASSIFICATION REPORT:\")\n",
        "print(classification_report(y_test, y_pred))\n",
        "\n",
        "feature_importance = pd.DataFrame({\n",
        "    'feature': X.columns,\n",
        "    'importance': model.feature_importances_\n",
        "}).sort_values('importance', ascending=False)\n",
        "\n",
        "print(f\"\\nTOP 10 CARACTERÍSTICAS MÁS IMPORTANTES:\")\n",
        "print(feature_importance.head(10))"
      ],
      "outputs": [
        {
          "output_type": "stream",
          "name": "stdout",
          "text": "ENTRENANDO MODELO RANDOM FOREST...\nMODELO ENTRENADO EXITOSAMENTE\nAccuracy: 0.7905\n\nCLASSIFICATION REPORT:\n              precision    recall  f1-score   support\n\n         0.0       0.87      0.86      0.86      4673\n         1.0       0.52      0.56      0.54      1327\n\n    accuracy                           0.79      6000\n   macro avg       0.70      0.71      0.70      6000\nweighted avg       0.80      0.79      0.79      6000\n\n\nTOP 10 CARACTERÍSTICAS MÁS IMPORTANTES:\n   feature  importance\n5       X6    0.248320\n6       X7    0.101913\n0       X1    0.052161\n7       X8    0.051778\n8       X9    0.049973\n10     X11    0.043462\n11     X12    0.040626\n17     X18    0.040555\n18     X19    0.038957\n9      X10    0.035554\n"
        }
      ],
      "execution_count": 6,
      "metadata": {
        "gather": {
          "logged": 1748726172860
        }
      }
    },
    {
      "cell_type": "code",
      "source": [
        "import joblib\n",
        "from azure.ai.ml.entities import Model\n",
        "from azure.ai.ml.constants import AssetTypes\n",
        "\n",
        "print(\"REGISTRANDO MODELO EN AZURE ML...\")\n",
        "\n",
        "model_name = \"credit_default_model.pkl\"\n",
        "joblib.dump(model, model_name)\n",
        "\n",
        "file_model = Model(\n",
        "    path=model_name,\n",
        "    type=AssetTypes.CUSTOM_MODEL,\n",
        "    name=\"credit-default-predictor-v1\",\n",
        "    description=f\"Random Forest model for credit default prediction - Accuracy: {accuracy:.4f}\",\n",
        "    tags={\n",
        "        \"algorithm\": \"RandomForest\", \n",
        "        \"accuracy\": f\"{accuracy:.4f}\",\n",
        "        \"framework\": \"scikit-learn\"\n",
        "    }\n",
        ")\n",
        "\n",
        "try:\n",
        "    registered_model = ml_client.models.create_or_update(file_model)\n",
        "    print(f\"MODELO REGISTRADO EXITOSAMENTE:\")\n",
        "    print(f\"Nombre: {registered_model.name}\")\n",
        "    print(f\"Versión: {registered_model.version}\")\n",
        "    print(f\"ID: {registered_model.id}\")\n",
        "except Exception as e:\n",
        "    print(f\"Error registrando modelo: {e}\")"
      ],
      "outputs": [
        {
          "output_type": "stream",
          "name": "stdout",
          "text": "REGISTRANDO MODELO EN AZURE ML...\nMODELO REGISTRADO EXITOSAMENTE:\nNombre: credit-default-predictor-v1\nVersión: 2\nID: /subscriptions/1c10247d-21e6-46ad-aad4-0415d628ab58/resourceGroups/synapse-ogvd-rg/providers/Microsoft.MachineLearningServices/workspaces/ml-workspace-ogvd/models/credit-default-predictor-v1/versions/2\n"
        }
      ],
      "execution_count": 8,
      "metadata": {
        "gather": {
          "logged": 1748726276563
        }
      }
    }
  ],
  "metadata": {
    "kernelspec": {
      "display_name": "Python 3.10 - SDK v2",
      "language": "python",
      "name": "python310-sdkv2"
    },
    "language_info": {
      "name": "python",
      "version": "3.10.16",
      "mimetype": "text/x-python",
      "codemirror_mode": {
        "name": "ipython",
        "version": 3
      },
      "pygments_lexer": "ipython3",
      "nbconvert_exporter": "python",
      "file_extension": ".py"
    },
    "microsoft": {
      "ms_spell_check": {
        "ms_spell_check_language": "es"
      }
    },
    "nteract": {
      "version": "nteract-front-end@1.0.0"
    }
  },
  "nbformat": 4,
  "nbformat_minor": 2
}