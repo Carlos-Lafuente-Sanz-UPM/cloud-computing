{
  "cells": [
    {
      "cell_type": "code",
      "source": [
        "file_path = \"abfss://fsogvd@datalakeogvdlabs.dfs.core.windows.net/user/products.csv\"\n",
        "\n",
        "df = spark.read.option(\"header\", \"true\").option(\"inferSchema\", \"true\").csv(file_path)\n",
        "\n",
        "print(\"Datos de productos cargados:\")\n",
        "print(f\"Registros: {df.count()}\")\n",
        "print(f\"Columnas: {len(df.columns)}\")\n",
        "df.show(10)"
      ],
      "outputs": [
        {
          "output_type": "display_data",
          "data": {
            "application/vnd.livy.statement-meta+json": {
              "spark_pool": "sparkpool01",
              "statement_id": 2,
              "statement_ids": [
                2
              ],
              "state": "finished",
              "livy_statement_state": "available",
              "spark_jobs": null,
              "session_id": "0",
              "normalized_state": "finished",
              "queued_time": "2025-05-31T18:58:55.9190197Z",
              "session_start_time": null,
              "execution_start_time": "2025-05-31T18:59:40.9148818Z",
              "execution_finish_time": "2025-05-31T19:00:08.0551957Z",
              "parent_msg_id": "381e0b39-e35b-44d7-8ac5-4cc903920b7b"
            },
            "text/plain": "StatementMeta(sparkpool01, 0, 2, Finished, Available, Finished)"
          },
          "metadata": {}
        },
        {
          "output_type": "stream",
          "name": "stdout",
          "text": [
            "Datos de productos cargados:\nRegistros: 295\nColumnas: 4\n+---------+--------------------+--------------+---------+\n|ProductID|         ProductName|      Category|ListPrice|\n+---------+--------------------+--------------+---------+\n|      771|Mountain-100 Silv...|Mountain Bikes|  3399.99|\n|      772|Mountain-100 Silv...|Mountain Bikes|  3399.99|\n|      773|Mountain-100 Silv...|Mountain Bikes|  3399.99|\n|      774|Mountain-100 Silv...|Mountain Bikes|  3399.99|\n|      775|Mountain-100 Blac...|Mountain Bikes|  3374.99|\n|      776|Mountain-100 Blac...|Mountain Bikes|  3374.99|\n|      777|Mountain-100 Blac...|Mountain Bikes|  3374.99|\n|      778|Mountain-100 Blac...|Mountain Bikes|  3374.99|\n|      779|Mountain-200 Silv...|Mountain Bikes|  2319.99|\n|      780|Mountain-200 Silv...|Mountain Bikes|  2319.99|\n+---------+--------------------+--------------+---------+\nonly showing top 10 rows\n\n"
          ]
        }
      ],
      "execution_count": 2,
      "metadata": {}
    },
    {
      "cell_type": "code",
      "source": [
        "df.createOrReplaceTempView(\"products\")\n",
        "print(\"Vista 'products' creada para consultas SQL\")\n",
        "\n",
        "print(\"Esquema de datos:\")\n",
        "df.printSchema()"
      ],
      "outputs": [
        {
          "output_type": "display_data",
          "data": {
            "application/vnd.livy.statement-meta+json": {
              "spark_pool": "sparkpool01",
              "statement_id": 3,
              "statement_ids": [
                3
              ],
              "state": "finished",
              "livy_statement_state": "available",
              "spark_jobs": null,
              "session_id": "0",
              "normalized_state": "finished",
              "queued_time": "2025-05-31T19:00:16.4121668Z",
              "session_start_time": null,
              "execution_start_time": "2025-05-31T19:00:16.413377Z",
              "execution_finish_time": "2025-05-31T19:00:16.6451429Z",
              "parent_msg_id": "bbbc5a42-5429-49a9-88cc-07213cc6aff4"
            },
            "text/plain": "StatementMeta(sparkpool01, 0, 3, Finished, Available, Finished)"
          },
          "metadata": {}
        },
        {
          "output_type": "stream",
          "name": "stdout",
          "text": [
            "Vista 'products' creada para consultas SQL\nEsquema de datos:\nroot\n |-- ProductID: integer (nullable = true)\n |-- ProductName: string (nullable = true)\n |-- Category: string (nullable = true)\n |-- ListPrice: double (nullable = true)\n\n"
          ]
        }
      ],
      "execution_count": 3,
      "metadata": {}
    },
    {
      "cell_type": "code",
      "source": [
        "total_products = spark.sql(\"SELECT COUNT(*) as total_products FROM products\")\n",
        "total_products.show()\n",
        "\n",
        "expensive_products = spark.sql(\"\"\"\n",
        "SELECT ProductName, ListPrice \n",
        "FROM products \n",
        "WHERE ListPrice IS NOT NULL \n",
        "ORDER BY CAST(ListPrice AS DOUBLE) DESC \n",
        "LIMIT 10\n",
        "\"\"\")\n",
        "print(\"Top 10 productos más caros:\")\n",
        "expensive_products.show()\n",
        "\n",
        "products_by_category = spark.sql(\"\"\"\n",
        "SELECT Category, COUNT(*) as product_count\n",
        "FROM products \n",
        "WHERE Category IS NOT NULL\n",
        "GROUP BY Category\n",
        "ORDER BY product_count DESC\n",
        "\"\"\")\n",
        "print(\"Productos por categoría:\")\n",
        "products_by_category.show()\n",
        "\n",
        "price_stats = spark.sql(\"\"\"\n",
        "SELECT \n",
        "    Category,\n",
        "    COUNT(*) as product_count,\n",
        "    AVG(CAST(ListPrice AS DOUBLE)) as avg_price,\n",
        "    MIN(CAST(ListPrice AS DOUBLE)) as min_price,\n",
        "    MAX(CAST(ListPrice AS DOUBLE)) as max_price\n",
        "FROM products \n",
        "WHERE ListPrice IS NOT NULL\n",
        "GROUP BY Category\n",
        "ORDER BY avg_price DESC\n",
        "\"\"\")\n",
        "print(\"Estadísticas de precios por categoría:\")\n",
        "price_stats.show()"
      ],
      "outputs": [
        {
          "output_type": "display_data",
          "data": {
            "application/vnd.livy.statement-meta+json": {
              "spark_pool": "sparkpool01",
              "statement_id": 6,
              "statement_ids": [
                6
              ],
              "state": "finished",
              "livy_statement_state": "available",
              "spark_jobs": null,
              "session_id": "0",
              "normalized_state": "finished",
              "queued_time": "2025-05-31T19:03:29.0445243Z",
              "session_start_time": null,
              "execution_start_time": "2025-05-31T19:03:29.0457995Z",
              "execution_finish_time": "2025-05-31T19:03:31.9316306Z",
              "parent_msg_id": "21a87374-0c0f-42a3-ac8c-0ad82273480f"
            },
            "text/plain": "StatementMeta(sparkpool01, 0, 6, Finished, Available, Finished)"
          },
          "metadata": {}
        },
        {
          "output_type": "stream",
          "name": "stdout",
          "text": [
            "+--------------+\n|total_products|\n+--------------+\n|           295|\n+--------------+\n\nTop 10 productos más caros:\n+--------------------+---------+\n|         ProductName|ListPrice|\n+--------------------+---------+\n|    Road-150 Red, 44|  3578.27|\n|    Road-150 Red, 62|  3578.27|\n|    Road-150 Red, 48|  3578.27|\n|    Road-150 Red, 52|  3578.27|\n|    Road-150 Red, 56|  3578.27|\n|Mountain-100 Silv...|  3399.99|\n|Mountain-100 Silv...|  3399.99|\n|Mountain-100 Silv...|  3399.99|\n|Mountain-100 Silv...|  3399.99|\n|Mountain-100 Blac...|  3374.99|\n+--------------------+---------+\n\nProductos por categoría:\n+-----------------+-------------+\n|         Category|product_count|\n+-----------------+-------------+\n|       Road Bikes|           43|\n|      Road Frames|           33|\n|   Mountain Bikes|           32|\n|  Mountain Frames|           28|\n|    Touring Bikes|           22|\n|   Touring Frames|           18|\n|           Wheels|           14|\n|  Tires and Tubes|           11|\n|          Saddles|            9|\n|          Jerseys|            8|\n|       Handlebars|            8|\n|           Pedals|            7|\n|           Shorts|            7|\n|           Gloves|            6|\n|            Socks|            4|\n|         Headsets|            3|\n|  Bottom Brackets|            3|\n|Bottles and Cages|            3|\n|            Forks|            3|\n|            Vests|            3|\n+-----------------+-------------+\nonly showing top 20 rows\n\nEstadísticas de precios por categoría:\n+---------------+-------------+------------------+---------+---------+\n|       Category|product_count|         avg_price|min_price|max_price|\n+---------------+-------------+------------------+---------+---------+\n| Mountain Bikes|           32|1683.3649999999982|   539.99|  3399.99|\n|     Road Bikes|           43|1597.4499999999994|   539.99|  3578.27|\n|  Touring Bikes|           22|1425.2481818181814|   742.35|  2384.07|\n|    Road Frames|           33| 780.0436363636371|   337.22|   1431.5|\n|Mountain Frames|           28| 678.2535714285716|   249.79|   1364.5|\n| Touring Frames|           18| 631.4155555555556|   333.42|  1003.91|\n|      Cranksets|            3|            278.99|   175.49|   404.99|\n|         Wheels|           14|220.92928571428567|   60.745|   357.06|\n|          Forks|            3|             184.4|   148.22|   229.49|\n|    Bike Stands|            1|             159.0|    159.0|    159.0|\n|       Panniers|            1|             125.0|    125.0|    125.0|\n|     Bike Racks|            1|             120.0|    120.0|    120.0|\n|         Brakes|            2|             106.5|    106.5|    106.5|\n|    Derailleurs|            2|           106.475|    91.49|   121.46|\n|Bottom Brackets|            3|             92.24|    53.99|   121.49|\n|     Bib-Shorts|            3|             89.99|    89.99|    89.99|\n|       Headsets|            3| 87.07333333333334|     34.2|   124.73|\n|         Tights|            3|             74.99|    74.99|    74.99|\n|     Handlebars|            8|             73.89|    44.54|   120.27|\n|         Shorts|            7| 64.27571428571429|    59.99|    69.99|\n+---------------+-------------+------------------+---------+---------+\nonly showing top 20 rows\n\n"
          ]
        }
      ],
      "execution_count": 6,
      "metadata": {}
    },
    {
      "cell_type": "code",
      "source": [
        "# Cell 4: Guardar resultados en Data Lake (según PDF)\n",
        "print(\"Guardando resultados en Data Lake...\")\n",
        "\n",
        "# Guardar productos caros como Parquet\n",
        "expensive_products.write.mode(\"overwrite\").parquet(\"abfss://fsogvd@datalakeogvdlabs.dfs.core.windows.net/user/expensive_products.parquet\")\n",
        "\n",
        "# Guardar estadísticas por categoría\n",
        "products_by_category.write.mode(\"overwrite\").parquet(\"abfss://fsogvd@datalakeogvdlabs.dfs.core.windows.net/user/products_by_category.parquet\")\n",
        "\n",
        "print(\"Datos guardados en formato Parquet en Data Lake\")\n",
        "print(\"Archivos creados:\")\n",
        "print(\"- expensive_products.parquet\")\n",
        "print(\"- products_by_category.parquet\")"
      ],
      "outputs": [
        {
          "output_type": "display_data",
          "data": {
            "application/vnd.livy.statement-meta+json": {
              "spark_pool": "sparkpool01",
              "statement_id": 7,
              "statement_ids": [
                7
              ],
              "state": "finished",
              "livy_statement_state": "available",
              "spark_jobs": null,
              "session_id": "0",
              "normalized_state": "finished",
              "queued_time": "2025-05-31T19:05:09.1382345Z",
              "session_start_time": null,
              "execution_start_time": "2025-05-31T19:05:09.1394557Z",
              "execution_finish_time": "2025-05-31T19:05:16.0680574Z",
              "parent_msg_id": "a06078e4-79ae-49e1-883f-86bd30bc45b7"
            },
            "text/plain": "StatementMeta(sparkpool01, 0, 7, Finished, Available, Finished)"
          },
          "metadata": {}
        },
        {
          "output_type": "stream",
          "name": "stdout",
          "text": [
            "Guardando resultados en Data Lake...\nDatos guardados en formato Parquet en Data Lake\nArchivos creados:\n- expensive_products.parquet\n- products_by_category.parquet\n"
          ]
        }
      ],
      "execution_count": 7,
      "metadata": {}
    }
  ],
  "metadata": {
    "language_info": {
      "name": "python"
    },
    "kernelspec": {
      "name": "synapse_pyspark",
      "language": "Python",
      "display_name": "Synapse PySpark"
    },
    "kernel_info": {
      "name": "synapse_pyspark"
    },
    "save_output": true,
    "synapse_widget": {
      "version": "0.1",
      "state": {}
    }
  },
  "nbformat": 4,
  "nbformat_minor": 2
}