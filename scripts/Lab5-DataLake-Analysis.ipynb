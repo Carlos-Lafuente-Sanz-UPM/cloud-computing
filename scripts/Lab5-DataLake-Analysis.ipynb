{
  "cells": [
    {
      "cell_type": "code",
      "source": [
        "file_path = \"abfss://fsogvd@datalakeogvdlabs.dfs.core.windows.net/user/NYCTripSmall.parquet\"\n",
        "\n",
        "df_taxi = spark.read.parquet(file_path)\n",
        "\n",
        "print(\"Datos NYC Taxi cargados desde Data Lake:\")\n",
        "print(f\"Total registros: {df_taxi.count()}\")\n",
        "print(f\"Total columnas: {len(df_taxi.columns)}\")\n",
        "print(\"\\nPrimeras 5 filas:\")\n",
        "df_taxi.show(5)\n",
        "\n",
        "print(\"\\nEsquema de datos:\")\n",
        "df_taxi.printSchema()"
      ],
      "outputs": [
        {
          "output_type": "display_data",
          "data": {
            "application/vnd.livy.statement-meta+json": {
              "spark_pool": "sparkpool01",
              "statement_id": 8,
              "statement_ids": [
                8
              ],
              "state": "finished",
              "livy_statement_state": "available",
              "spark_jobs": null,
              "session_id": "0",
              "normalized_state": "finished",
              "queued_time": "2025-05-31T19:18:52.8732719Z",
              "session_start_time": null,
              "execution_start_time": "2025-05-31T19:18:52.8745719Z",
              "execution_finish_time": "2025-05-31T19:18:58.3376964Z",
              "parent_msg_id": "24772ce9-1d63-4a7f-aac0-fd6d820055ef"
            },
            "text/plain": "StatementMeta(sparkpool01, 0, 8, Finished, Available, Finished)"
          },
          "metadata": {}
        },
        {
          "output_type": "stream",
          "name": "stdout",
          "text": [
            "Datos NYC Taxi cargados desde Data Lake:\nTotal registros: 68211\nTotal columnas: 20\n\nPrimeras 5 filas:\n+--------+--------------------+---------------------+------------------+----------+------------+------------+---------------+-------------+-----------+-----+-------+----------+------------+---------+---------------------+------------+------------+---------+--------------------+\n|VendorID|lpep_pickup_datetime|lpep_dropoff_datetime|store_and_fwd_flag|RatecodeID|PULocationID|DOLocationID|passenger_count|trip_distance|fare_amount|extra|mta_tax|tip_amount|tolls_amount|ehail_fee|improvement_surcharge|total_amount|payment_type|trip_type|congestion_surcharge|\n+--------+--------------------+---------------------+------------------+----------+------------+------------+---------------+-------------+-----------+-----+-------+----------+------------+---------+---------------------+------------+------------+---------+--------------------+\n|       2| 2023-01-01 00:26:10|  2023-01-01 00:37:11|                 N|       1.0|         166|         143|            1.0|         2.58|       14.9|  1.0|    0.5|      4.03|         0.0|     null|                  1.0|       24.18|         1.0|      1.0|                2.75|\n|       2| 2023-01-01 00:51:03|  2023-01-01 00:57:49|                 N|       1.0|          24|          43|            1.0|         1.81|       10.7|  1.0|    0.5|      2.64|         0.0|     null|                  1.0|       15.84|         1.0|      1.0|                 0.0|\n|       2| 2023-01-01 00:35:12|  2023-01-01 00:41:32|                 N|       1.0|         223|         179|            1.0|          0.0|        7.2|  1.0|    0.5|      1.94|         0.0|     null|                  1.0|       11.64|         1.0|      1.0|                 0.0|\n|       1| 2023-01-01 00:13:14|  2023-01-01 00:19:03|                 N|       1.0|          41|         238|            1.0|          1.3|        6.5|  0.5|    1.5|       1.7|         0.0|     null|                  1.0|        10.2|         1.0|      1.0|                 0.0|\n|       1| 2023-01-01 00:33:04|  2023-01-01 00:39:02|                 N|       1.0|          41|          74|            1.0|          1.1|        6.0|  0.5|    1.5|       0.0|         0.0|     null|                  1.0|         8.0|         1.0|      1.0|                 0.0|\n+--------+--------------------+---------------------+------------------+----------+------------+------------+---------------+-------------+-----------+-----+-------+----------+------------+---------+---------------------+------------+------------+---------+--------------------+\nonly showing top 5 rows\n\n\nEsquema de datos:\nroot\n |-- VendorID: long (nullable = true)\n |-- lpep_pickup_datetime: timestamp_ntz (nullable = true)\n |-- lpep_dropoff_datetime: timestamp_ntz (nullable = true)\n |-- store_and_fwd_flag: string (nullable = true)\n |-- RatecodeID: double (nullable = true)\n |-- PULocationID: long (nullable = true)\n |-- DOLocationID: long (nullable = true)\n |-- passenger_count: double (nullable = true)\n |-- trip_distance: double (nullable = true)\n |-- fare_amount: double (nullable = true)\n |-- extra: double (nullable = true)\n |-- mta_tax: double (nullable = true)\n |-- tip_amount: double (nullable = true)\n |-- tolls_amount: double (nullable = true)\n |-- ehail_fee: integer (nullable = true)\n |-- improvement_surcharge: double (nullable = true)\n |-- total_amount: double (nullable = true)\n |-- payment_type: double (nullable = true)\n |-- trip_type: double (nullable = true)\n |-- congestion_surcharge: double (nullable = true)\n\n"
          ]
        }
      ],
      "execution_count": 8,
      "metadata": {}
    },
    {
      "cell_type": "code",
      "source": [
        "df_taxi.createOrReplaceTempView(\"nyc_taxi\")\n",
        "print(\"Vista temporal 'nyc_taxi' creada en base de datos Spark\")\n",
        "\n",
        "row_count = spark.sql(\"SELECT COUNT(*) as total FROM nyc_taxi\").collect()[0]['total']\n",
        "print(f\"Total de registros en vista: {row_count}\")"
      ],
      "outputs": [
        {
          "output_type": "display_data",
          "data": {
            "application/vnd.livy.statement-meta+json": {
              "spark_pool": "sparkpool01",
              "statement_id": 9,
              "statement_ids": [
                9
              ],
              "state": "finished",
              "livy_statement_state": "available",
              "spark_jobs": null,
              "session_id": "0",
              "normalized_state": "finished",
              "queued_time": "2025-05-31T19:19:03.9079175Z",
              "session_start_time": null,
              "execution_start_time": "2025-05-31T19:19:03.9091248Z",
              "execution_finish_time": "2025-05-31T19:19:05.0424006Z",
              "parent_msg_id": "c30bd2a7-58ee-4b9d-93cf-92c5ddda7a00"
            },
            "text/plain": "StatementMeta(sparkpool01, 0, 9, Finished, Available, Finished)"
          },
          "metadata": {}
        },
        {
          "output_type": "stream",
          "name": "stdout",
          "text": [
            "Vista temporal 'nyc_taxi' creada en base de datos Spark\nTotal de registros en vista: 68211\n"
          ]
        }
      ],
      "execution_count": 9,
      "metadata": {}
    },
    {
      "cell_type": "code",
      "source": [
        "print(\"ANÁLISIS 1: Estadísticas básicas\")\n",
        "basic_stats = spark.sql(\"\"\"\n",
        "SELECT \n",
        "    COUNT(*) as total_trips,\n",
        "    AVG(total_amount) as avg_fare,\n",
        "    MIN(total_amount) as min_fare,\n",
        "    MAX(total_amount) as max_fare,\n",
        "    AVG(trip_distance) as avg_distance,\n",
        "    MIN(trip_distance) as min_distance,\n",
        "    MAX(trip_distance) as max_distance\n",
        "FROM nyc_taxi\n",
        "WHERE total_amount > 0 AND trip_distance > 0\n",
        "\"\"\")\n",
        "basic_stats.show()\n",
        "\n",
        "print(\"\\nANÁLISIS 2: Distribución por tipo de pago\")\n",
        "payment_analysis = spark.sql(\"\"\"\n",
        "SELECT \n",
        "    payment_type,\n",
        "    COUNT(*) as trip_count,\n",
        "    ROUND(AVG(total_amount), 2) as avg_amount,\n",
        "    ROUND(SUM(total_amount), 2) as total_revenue,\n",
        "    ROUND(AVG(trip_distance), 2) as avg_distance\n",
        "FROM nyc_taxi \n",
        "WHERE total_amount > 0\n",
        "GROUP BY payment_type\n",
        "ORDER BY trip_count DESC\n",
        "\"\"\")\n",
        "payment_analysis.show()\n",
        "\n",
        "print(\"\\nANÁLISIS 3: Patrones temporales por hora\")\n",
        "temporal_analysis = spark.sql(\"\"\"\n",
        "SELECT \n",
        "    HOUR(lpep_pickup_datetime) as pickup_hour,\n",
        "    COUNT(*) as trips_count,\n",
        "    ROUND(AVG(trip_distance), 2) as avg_distance,\n",
        "    ROUND(AVG(total_amount), 2) as avg_fare\n",
        "FROM nyc_taxi\n",
        "WHERE lpep_pickup_datetime IS NOT NULL\n",
        "GROUP BY HOUR(lpep_pickup_datetime)\n",
        "ORDER BY pickup_hour\n",
        "\"\"\")\n",
        "temporal_analysis.show(24)"
      ],
      "outputs": [
        {
          "output_type": "display_data",
          "data": {
            "application/vnd.livy.statement-meta+json": {
              "spark_pool": "sparkpool01",
              "statement_id": 10,
              "statement_ids": [
                10
              ],
              "state": "finished",
              "livy_statement_state": "available",
              "spark_jobs": null,
              "session_id": "0",
              "normalized_state": "finished",
              "queued_time": "2025-05-31T19:19:10.800084Z",
              "session_start_time": null,
              "execution_start_time": "2025-05-31T19:19:10.8012032Z",
              "execution_finish_time": "2025-05-31T19:19:16.2619751Z",
              "parent_msg_id": "d5feaade-92db-4111-ade3-9a72f7188fe5"
            },
            "text/plain": "StatementMeta(sparkpool01, 0, 10, Finished, Available, Finished)"
          },
          "metadata": {}
        },
        {
          "output_type": "stream",
          "name": "stdout",
          "text": [
            "ANÁLISIS 1: Estadísticas básicas\n+-----------+------------------+--------+--------+-----------------+------------+------------+\n|total_trips|          avg_fare|min_fare|max_fare|     avg_distance|min_distance|max_distance|\n+-----------+------------------+--------+--------+-----------------+------------+------------+\n|      64742|21.767631985419392|    1.01|   456.0|8.547262982298957|        0.01|   120098.84|\n+-----------+------------------+--------+--------+-----------------+------------+------------+\n\n\nANÁLISIS 2: Distribución por tipo de pago\n+------------+----------+----------+-------------+------------+\n|payment_type|trip_count|avg_amount|total_revenue|avg_distance|\n+------------+----------+----------+-------------+------------+\n|         1.0|     40645|     23.03|    936029.08|        2.62|\n|         2.0|     22605|      18.4|    415884.75|        2.54|\n|        null|      4319|     30.53|    131879.51|       90.03|\n|         3.0|       330|     10.43|      3442.35|        0.92|\n|         4.0|        62|     10.01|       620.65|        1.02|\n|         5.0|         2|     14.75|         29.5|         0.0|\n+------------+----------+----------+-------------+------------+\n\n\nANÁLISIS 3: Patrones temporales por hora\n+-----------+-----------+------------+--------+\n|pickup_hour|trips_count|avg_distance|avg_fare|\n+-----------+-----------+------------+--------+\n|          0|       1129|        2.91|    21.2|\n|          1|        891|        7.58|   23.02|\n|          2|        659|         3.4|   24.33|\n|          3|        598|        3.29|   25.68|\n|          4|        451|        8.01|    26.6|\n|          5|        431|       28.45|   30.06|\n|          6|        998|      130.54|   22.73|\n|          7|       2646|       19.03|   21.11|\n|          8|       3219|        7.33|   21.98|\n|          9|       3520|       17.89|   21.56|\n|         10|       3633|        3.73|   21.66|\n|         11|       3735|        3.64|   21.58|\n|         12|       3806|        3.75|   21.37|\n|         13|       4012|        2.76|   21.63|\n|         14|       4415|        2.76|   21.94|\n|         15|       5105|        3.28|   21.21|\n|         16|       5216|         2.8|   22.51|\n|         17|       5223|        5.26|   22.58|\n|         18|       5236|       16.42|   21.87|\n|         19|       4223|        2.38|   20.85|\n|         20|       3234|        3.19|    20.8|\n|         21|       2415|        4.23|   20.72|\n|         22|       1912|        4.89|   21.29|\n|         23|       1504|        4.51|   21.15|\n+-----------+-----------+------------+--------+\n\n"
          ]
        }
      ],
      "execution_count": 10,
      "metadata": {}
    },
    {
      "cell_type": "code",
      "source": [
        "print(\"ANÁLISIS 4: Top ubicaciones de pickup\")\n",
        "pickup_locations = spark.sql(\"\"\"\n",
        "SELECT \n",
        "    PULocationID,\n",
        "    COUNT(*) as pickup_count,\n",
        "    ROUND(AVG(total_amount), 2) as avg_fare,\n",
        "    ROUND(AVG(trip_distance), 2) as avg_distance\n",
        "FROM nyc_taxi\n",
        "WHERE PULocationID IS NOT NULL\n",
        "GROUP BY PULocationID\n",
        "ORDER BY pickup_count DESC\n",
        "LIMIT 15\n",
        "\"\"\")\n",
        "pickup_locations.show()\n",
        "\n",
        "print(\"\\nANÁLISIS 5: Distribución por día de la semana\")\n",
        "weekday_analysis = spark.sql(\"\"\"\n",
        "SELECT \n",
        "    DAYOFWEEK(lpep_pickup_datetime) as day_of_week,\n",
        "    CASE DAYOFWEEK(lpep_pickup_datetime)\n",
        "        WHEN 1 THEN 'Sunday'\n",
        "        WHEN 2 THEN 'Monday'\n",
        "        WHEN 3 THEN 'Tuesday'\n",
        "        WHEN 4 THEN 'Wednesday'\n",
        "        WHEN 5 THEN 'Thursday'\n",
        "        WHEN 6 THEN 'Friday'\n",
        "        WHEN 7 THEN 'Saturday'\n",
        "    END as day_name,\n",
        "    COUNT(*) as trips_count,\n",
        "    ROUND(AVG(total_amount), 2) as avg_fare\n",
        "FROM nyc_taxi\n",
        "WHERE lpep_pickup_datetime IS NOT NULL\n",
        "GROUP BY DAYOFWEEK(lpep_pickup_datetime)\n",
        "ORDER BY day_of_week\n",
        "\"\"\")\n",
        "weekday_analysis.show()\n",
        "\n",
        "print(\"\\nGuardando resultados de análisis...\")\n",
        "payment_analysis.write.mode(\"overwrite\").parquet(\"abfss://fsogvd@datalakeogvdlabs.dfs.core.windows.net/user/payment_analysis.parquet\")\n",
        "temporal_analysis.write.mode(\"overwrite\").parquet(\"abfss://fsogvd@datalakeogvdlabs.dfs.core.windows.net/user/temporal_analysis.parquet\")\n",
        "print(\"Análisis guardados en Data Lake\")"
      ],
      "outputs": [
        {
          "output_type": "display_data",
          "data": {
            "application/vnd.livy.statement-meta+json": {
              "spark_pool": "sparkpool01",
              "statement_id": 11,
              "statement_ids": [
                11
              ],
              "state": "finished",
              "livy_statement_state": "available",
              "spark_jobs": null,
              "session_id": "0",
              "normalized_state": "finished",
              "queued_time": "2025-05-31T19:19:29.3916345Z",
              "session_start_time": null,
              "execution_start_time": "2025-05-31T19:19:29.3929586Z",
              "execution_finish_time": "2025-05-31T19:19:38.0922928Z",
              "parent_msg_id": "4a3c82df-93a3-460c-8c7d-d422a67e11f3"
            },
            "text/plain": "StatementMeta(sparkpool01, 0, 11, Finished, Available, Finished)"
          },
          "metadata": {}
        },
        {
          "output_type": "stream",
          "name": "stdout",
          "text": [
            "ANÁLISIS 4: Top ubicaciones de pickup\n+------------+------------+--------+------------+\n|PULocationID|pickup_count|avg_fare|avg_distance|\n+------------+------------+--------+------------+\n|          74|       13257|   19.34|        2.64|\n|          75|        9109|   20.11|        2.29|\n|          41|        4058|   18.16|       14.42|\n|         166|        3879|   21.57|        2.56|\n|          95|        3839|   19.13|        2.44|\n|          82|        2927|   21.35|         6.9|\n|          43|        2868|   22.17|        2.38|\n|          97|        2195|   21.61|        2.45|\n|           7|        1965|   20.35|        3.56|\n|         244|        1804|   31.31|       43.15|\n|          42|        1800|   18.61|        3.69|\n|          65|        1546|   24.68|        2.98|\n|         260|        1409|    21.6|        2.82|\n|         129|        1320|   21.09|        2.62|\n|         130|        1238|   26.79|        4.14|\n+------------+------------+--------+------------+\n\n\nANÁLISIS 5: Distribución por día de la semana\n+-----------+---------+-----------+--------+\n|day_of_week| day_name|trips_count|avg_fare|\n+-----------+---------+-----------+--------+\n|          1|   Sunday|       8347|   21.75|\n|          2|   Monday|       9993|   21.62|\n|          3|  Tuesday|      11263|    21.8|\n|          4|Wednesday|       9886|   21.63|\n|          5| Thursday|      10209|   22.14|\n|          6|   Friday|       9993|    21.9|\n|          7| Saturday|       8520|   21.64|\n+-----------+---------+-----------+--------+\n\n\nGuardando resultados de análisis...\nAnálisis guardados en Data Lake\n"
          ]
        }
      ],
      "execution_count": 11,
      "metadata": {}
    }
  ],
  "metadata": {
    "language_info": {
      "name": "python"
    },
    "kernelspec": {
      "name": "synapse_pyspark",
      "language": "Python",
      "display_name": "Synapse PySpark"
    },
    "kernel_info": {
      "name": "synapse_pyspark"
    },
    "save_output": true,
    "synapse_widget": {
      "version": "0.1",
      "state": {}
    }
  },
  "nbformat": 4,
  "nbformat_minor": 2
}